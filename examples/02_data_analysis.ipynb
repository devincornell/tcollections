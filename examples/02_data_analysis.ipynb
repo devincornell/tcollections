{
 "cells": [
  {
   "cell_type": "markdown",
   "id": "6eae5c18",
   "metadata": {},
   "source": [
    "# `tcollections` for Data Analysis\n",
    "\n",
    "In this example document I demonstrate how `tcollections` can be used in data analysis projects. You can read further about my motivations and philosophical underpinnings in my blog posts [here](https://devinjcornell.com/post/dsp0_patterns_for_dataclasses.html) and [here](https://devinjcornell.com/post/dsp1_data_collection_types.html).\n",
    "\n",
    "The paradigm presented here involves the following steps.\n",
    "\n",
    "1. Define a dataclass to represent a \"row\" in your dataset. Define attributes and validation as needed.\n",
    "2. Define a collection type with which to add data transformations.\n",
    "3. Build transformation methods."
   ]
  },
  {
   "cell_type": "code",
   "execution_count": 15,
   "id": "365c4b96",
   "metadata": {},
   "outputs": [],
   "source": [
    "import dataclasses\n",
    "import sys\n",
    "sys.path.append('../src')\n",
    "import tcollections\n",
    "from tcollections import tlist, group"
   ]
  },
  {
   "cell_type": "markdown",
   "id": "f38ae18c",
   "metadata": {},
   "source": [
    "The first step is to define the atomic unit of analysis (person) and a collection type that inherits from `tlist`. This gives the class access to grouping, aggregating, and filtering methods that are common in data science projects."
   ]
  },
  {
   "cell_type": "code",
   "execution_count": 16,
   "id": "6998fb82",
   "metadata": {},
   "outputs": [],
   "source": [
    "@dataclasses.dataclass(frozen=True)\n",
    "class Person:\n",
    "    name: str\n",
    "    age: int\n",
    "    city: str\n",
    "\n",
    "class PersonList(tcollections.tlist[Person]):\n",
    "    def filter_by_city(self, city: str) -> 'PersonList':\n",
    "        return self.filter(lambda person: person.city == city)\n",
    "\n",
    "    def average_age(self) -> float:\n",
    "        return sum(self.map(lambda person: person.age)) / len(self)\n",
    "\n",
    "    def group_by_city(self) -> dict[str, 'PersonList']:\n",
    "        return self.group.by(lambda person: person.city)\n",
    "    "
   ]
  },
  {
   "cell_type": "code",
   "execution_count": 17,
   "id": "4abd7317",
   "metadata": {},
   "outputs": [
    {
     "data": {
      "text/plain": [
       "[Person(name='Alice', age=30, city='New York'),\n",
       " Person(name='Bob', age=25, city='Los Angeles'),\n",
       " Person(name='Charlie', age=35, city='New York'),\n",
       " Person(name='David', age=40, city='Chicago'),\n",
       " Person(name='Eve', age=28, city='Los Angeles')]"
      ]
     },
     "execution_count": 17,
     "metadata": {},
     "output_type": "execute_result"
    }
   ],
   "source": [
    "plist = PersonList([\n",
    "    Person(\"Alice\", 30, \"New York\"),\n",
    "    Person(\"Bob\", 25, \"Los Angeles\"),\n",
    "    Person(\"Charlie\", 35, \"New York\"),\n",
    "    Person(\"David\", 40, \"Chicago\"),\n",
    "    Person(\"Eve\", 28, \"Los Angeles\"),\n",
    "])\n",
    "plist"
   ]
  },
  {
   "cell_type": "code",
   "execution_count": 24,
   "id": "775861eb",
   "metadata": {},
   "outputs": [
    {
     "data": {
      "text/plain": [
       "Counter({'New York': 2, 'Los Angeles': 2, 'Chicago': 1})"
      ]
     },
     "execution_count": 24,
     "metadata": {},
     "output_type": "execute_result"
    }
   ],
   "source": [
    "plist.map(lambda person: person.city).value_counts()"
   ]
  },
  {
   "cell_type": "code",
   "execution_count": 18,
   "id": "a48218f1",
   "metadata": {},
   "outputs": [
    {
     "data": {
      "text/plain": [
       "[Person(name='Alice', age=30, city='New York'),\n",
       " Person(name='Charlie', age=35, city='New York')]"
      ]
     },
     "execution_count": 18,
     "metadata": {},
     "output_type": "execute_result"
    }
   ],
   "source": [
    "plist.filter(lambda person: person.city == \"New York\")"
   ]
  },
  {
   "cell_type": "code",
   "execution_count": 19,
   "id": "c9019b00",
   "metadata": {},
   "outputs": [
    {
     "data": {
      "text/plain": [
       "[Person(name='Alice', age=30, city='New York'),\n",
       " Person(name='Charlie', age=35, city='New York')]"
      ]
     },
     "execution_count": 19,
     "metadata": {},
     "output_type": "execute_result"
    }
   ],
   "source": [
    "plist.filter_by_city(\"New York\")"
   ]
  },
  {
   "cell_type": "code",
   "execution_count": 26,
   "id": "eed60f0c",
   "metadata": {},
   "outputs": [
    {
     "data": {
      "text/plain": [
       "31.6"
      ]
     },
     "execution_count": 26,
     "metadata": {},
     "output_type": "execute_result"
    }
   ],
   "source": [
    "plist.map(lambda person: person.age).agg(lambda ages: sum(ages) / len(ages))"
   ]
  },
  {
   "cell_type": "code",
   "execution_count": 27,
   "id": "01e47c41",
   "metadata": {},
   "outputs": [
    {
     "data": {
      "text/plain": [
       "31.6"
      ]
     },
     "execution_count": 27,
     "metadata": {},
     "output_type": "execute_result"
    }
   ],
   "source": [
    "plist.reduce(lambda acc, person: acc + person.age, 0) / len(plist)"
   ]
  },
  {
   "cell_type": "code",
   "execution_count": 21,
   "id": "365a8cfc",
   "metadata": {},
   "outputs": [
    {
     "data": {
      "text/plain": [
       "31.6"
      ]
     },
     "execution_count": 21,
     "metadata": {},
     "output_type": "execute_result"
    }
   ],
   "source": [
    "plist.average_age()"
   ]
  }
 ],
 "metadata": {
  "kernelspec": {
   "display_name": "base",
   "language": "python",
   "name": "python3"
  },
  "language_info": {
   "codemirror_mode": {
    "name": "ipython",
    "version": 3
   },
   "file_extension": ".py",
   "mimetype": "text/x-python",
   "name": "python",
   "nbconvert_exporter": "python",
   "pygments_lexer": "ipython3",
   "version": "3.12.4"
  }
 },
 "nbformat": 4,
 "nbformat_minor": 5
}

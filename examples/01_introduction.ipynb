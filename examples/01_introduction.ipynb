{
 "cells": [
  {
   "cell_type": "markdown",
   "id": "6eae5c18",
   "metadata": {},
   "source": [
    "# Introduction to `tcollections`"
   ]
  },
  {
   "cell_type": "code",
   "execution_count": 1,
   "id": "365c4b96",
   "metadata": {},
   "outputs": [],
   "source": [
    "import sys\n",
    "sys.path.append('../src')\n",
    "import tcollections\n",
    "from tcollections import tlist, group"
   ]
  },
  {
   "cell_type": "markdown",
   "id": "ff1fbe22",
   "metadata": {},
   "source": [
    "## Collection Types"
   ]
  },
  {
   "cell_type": "code",
   "execution_count": 2,
   "id": "508a8955",
   "metadata": {},
   "outputs": [
    {
     "data": {
      "text/plain": [
       "[0, 1, 2, 3, 4, 5, 6, 7, 8, 9]"
      ]
     },
     "execution_count": 2,
     "metadata": {},
     "output_type": "execute_result"
    }
   ],
   "source": [
    "tl = tlist(range(10))\n",
    "tl"
   ]
  },
  {
   "cell_type": "code",
   "execution_count": 3,
   "id": "3265f0e7",
   "metadata": {},
   "outputs": [
    {
     "data": {
      "text/plain": [
       "Groups({0: [0, 2, 4, 6, 8], 1: [1, 3, 5, 7, 9]})"
      ]
     },
     "execution_count": 3,
     "metadata": {},
     "output_type": "execute_result"
    }
   ],
   "source": [
    "tcollections.groupby(tl, lambda x: x % 2)"
   ]
  },
  {
   "cell_type": "markdown",
   "id": "898925aa",
   "metadata": {},
   "source": [
    "## Grouping Items\n",
    "This section concerns grouping elements.\n",
    "\n",
    "### Grouping Methods\n",
    "\n",
    "To group elements of a collection according to a single key, you can use either `groupby` or `group.by`."
   ]
  },
  {
   "cell_type": "code",
   "execution_count": 4,
   "id": "0dfaa44e",
   "metadata": {},
   "outputs": [
    {
     "data": {
      "text/plain": [
       "Groups({0: [0, 2, 4, 6, 8], 1: [1, 3, 5, 7, 9]})"
      ]
     },
     "execution_count": 4,
     "metadata": {},
     "output_type": "execute_result"
    }
   ],
   "source": [
    "tcollections.group.by(tl, lambda x: x % 2)"
   ]
  },
  {
   "cell_type": "code",
   "execution_count": 5,
   "id": "8e5e2e3e",
   "metadata": {},
   "outputs": [
    {
     "data": {
      "text/plain": [
       "Groups({0: [0, 2, 4, 6, 8], 1: [1, 3, 5, 7, 9]})"
      ]
     },
     "execution_count": 5,
     "metadata": {},
     "output_type": "execute_result"
    }
   ],
   "source": [
    "tcollections.groupby(tl, lambda x: x % 2)"
   ]
  },
  {
   "cell_type": "markdown",
   "id": "9fbdd301",
   "metadata": {},
   "source": [
    "Use `groupby_multi` or `group.multi` if you need nested groups."
   ]
  },
  {
   "cell_type": "code",
   "execution_count": 6,
   "id": "ee8b8a9b",
   "metadata": {},
   "outputs": [
    {
     "data": {
      "text/plain": [
       "NestedGroups({0: [0, 2, 4, 6, 8], 1: [1, 3, 5, 7, 9]})"
      ]
     },
     "execution_count": 6,
     "metadata": {},
     "output_type": "execute_result"
    }
   ],
   "source": [
    "tcollections.group.multi(tl, lambda x: (x % 2,))"
   ]
  },
  {
   "cell_type": "code",
   "execution_count": 7,
   "id": "dc38f516",
   "metadata": {},
   "outputs": [
    {
     "data": {
      "text/plain": [
       "NestedGroups({0: [0, 2, 4, 6, 8], 1: [1, 3, 5, 7, 9]})"
      ]
     },
     "execution_count": 7,
     "metadata": {},
     "output_type": "execute_result"
    }
   ],
   "source": [
    "tcollections.groupby_multi(tl, lambda x: (x % 2,))"
   ]
  },
  {
   "cell_type": "code",
   "execution_count": 8,
   "id": "d8eeeb0e",
   "metadata": {},
   "outputs": [
    {
     "data": {
      "text/plain": [
       "NestedGroups({0: NestedGroups({0: [0, 6], 2: [2, 8], 1: [4]}), 1: NestedGroups({1: [1, 7], 0: [3, 9], 2: [5]})})"
      ]
     },
     "execution_count": 8,
     "metadata": {},
     "output_type": "execute_result"
    }
   ],
   "source": [
    "tcollections.groupby_multi(tl, lambda x: (x % 2,x%3))"
   ]
  },
  {
   "cell_type": "markdown",
   "id": "524b17f3",
   "metadata": {},
   "source": [
    "### Aggregating Groups"
   ]
  },
  {
   "cell_type": "code",
   "execution_count": 9,
   "id": "618e5dcd",
   "metadata": {},
   "outputs": [
    {
     "data": {
      "text/plain": [
       "{0: 20, 1: 25}"
      ]
     },
     "execution_count": 9,
     "metadata": {},
     "output_type": "execute_result"
    }
   ],
   "source": [
    "tcollections.group.by(tl, lambda x: x % 2).agg(lambda x: sum(x))"
   ]
  },
  {
   "cell_type": "code",
   "execution_count": 10,
   "id": "8b6dd3ff",
   "metadata": {},
   "outputs": [
    {
     "data": {
      "text/plain": [
       "{0: 20, 1: 25}"
      ]
     },
     "execution_count": 10,
     "metadata": {},
     "output_type": "execute_result"
    }
   ],
   "source": [
    "tcollections.group.multi(tl, lambda x: (x % 2,)).agg(lambda x: sum(x))"
   ]
  },
  {
   "cell_type": "code",
   "execution_count": 11,
   "id": "fcbc26e5",
   "metadata": {},
   "outputs": [
    {
     "data": {
      "text/plain": [
       "{0: {0: 6, 2: 10, 1: 4}, 1: {1: 8, 0: 12, 2: 5}}"
      ]
     },
     "execution_count": 11,
     "metadata": {},
     "output_type": "execute_result"
    }
   ],
   "source": [
    "tcollections.group.multi(tl, lambda x: (x % 2,x%3)).agg(lambda x: sum(x))"
   ]
  },
  {
   "cell_type": "code",
   "execution_count": 12,
   "id": "1eedc272",
   "metadata": {},
   "outputs": [
    {
     "data": {
      "text/plain": [
       "{0: {0: 6, 2: 10, 1: 4}, 1: {1: 8, 0: 12, 2: 5}}"
      ]
     },
     "execution_count": 12,
     "metadata": {},
     "output_type": "execute_result"
    }
   ],
   "source": [
    "tcollections.group.multi(tl, lambda x: (x % 2,x%3)).agg(lambda x: sum(x))"
   ]
  }
 ],
 "metadata": {
  "kernelspec": {
   "display_name": "base",
   "language": "python",
   "name": "python3"
  },
  "language_info": {
   "codemirror_mode": {
    "name": "ipython",
    "version": 3
   },
   "file_extension": ".py",
   "mimetype": "text/x-python",
   "name": "python",
   "nbconvert_exporter": "python",
   "pygments_lexer": "ipython3",
   "version": "3.12.4"
  }
 },
 "nbformat": 4,
 "nbformat_minor": 5
}

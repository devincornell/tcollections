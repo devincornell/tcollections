{
 "cells": [
  {
   "cell_type": "markdown",
   "id": "6eae5c18",
   "metadata": {},
   "source": [
    "# Introduction to `tcollections`"
   ]
  },
  {
   "cell_type": "code",
   "execution_count": 12,
   "id": "365c4b96",
   "metadata": {},
   "outputs": [],
   "source": [
    "import sys\n",
    "sys.path.append('../src')\n",
    "import tcollections\n",
    "from tcollections import tlist"
   ]
  },
  {
   "cell_type": "markdown",
   "id": "ff1fbe22",
   "metadata": {},
   "source": [
    "## Collection Types"
   ]
  },
  {
   "cell_type": "code",
   "execution_count": 13,
   "id": "508a8955",
   "metadata": {},
   "outputs": [
    {
     "data": {
      "text/plain": [
       "[0, 1, 2, 3, 4, 5, 6, 7, 8, 9]"
      ]
     },
     "execution_count": 13,
     "metadata": {},
     "output_type": "execute_result"
    }
   ],
   "source": [
    "tl = tlist(range(10))\n",
    "tl"
   ]
  },
  {
   "cell_type": "code",
   "execution_count": 14,
   "id": "3265f0e7",
   "metadata": {},
   "outputs": [
    {
     "data": {
      "text/plain": [
       "Groups({0: [0, 2, 4, 6, 8], 1: [1, 3, 5, 7, 9]})"
      ]
     },
     "execution_count": 14,
     "metadata": {},
     "output_type": "execute_result"
    }
   ],
   "source": [
    "tcollections.groupby(tl, lambda x: x % 2)"
   ]
  },
  {
   "cell_type": "markdown",
   "id": "898925aa",
   "metadata": {},
   "source": [
    "## Grouping Items\n",
    "This section concerns grouping elements.\n",
    "\n",
    "### Grouping Methods"
   ]
  },
  {
   "cell_type": "code",
   "execution_count": 15,
   "id": "0dfaa44e",
   "metadata": {},
   "outputs": [
    {
     "data": {
      "text/plain": [
       "{0: 20, 1: 25}"
      ]
     },
     "execution_count": 15,
     "metadata": {},
     "output_type": "execute_result"
    }
   ],
   "source": [
    "tcollections.groupby(tl, lambda x: x % 2).agg(lambda x: sum(x))"
   ]
  },
  {
   "cell_type": "code",
   "execution_count": 16,
   "id": "dc38f516",
   "metadata": {},
   "outputs": [
    {
     "data": {
      "text/plain": [
       "NestedGroups({0: [0, 2, 4, 6, 8], 1: [1, 3, 5, 7, 9]})"
      ]
     },
     "execution_count": 16,
     "metadata": {},
     "output_type": "execute_result"
    }
   ],
   "source": [
    "tcollections.groupby_multi(tl, lambda x: (x % 2,))"
   ]
  },
  {
   "cell_type": "code",
   "execution_count": 17,
   "id": "d8eeeb0e",
   "metadata": {},
   "outputs": [
    {
     "data": {
      "text/plain": [
       "NestedGroups({0: NestedGroups({0: [0, 6], 2: [2, 8], 1: [4]}), 1: NestedGroups({1: [1, 7], 0: [3, 9], 2: [5]})})"
      ]
     },
     "execution_count": 17,
     "metadata": {},
     "output_type": "execute_result"
    }
   ],
   "source": [
    "tcollections.groupby_multi(tl, lambda x: (x % 2,x%3))"
   ]
  },
  {
   "cell_type": "markdown",
   "id": "524b17f3",
   "metadata": {},
   "source": [
    "### Aggregating Groups"
   ]
  },
  {
   "cell_type": "code",
   "execution_count": 18,
   "id": "618e5dcd",
   "metadata": {},
   "outputs": [
    {
     "data": {
      "text/plain": [
       "{0: 20, 1: 25}"
      ]
     },
     "execution_count": 18,
     "metadata": {},
     "output_type": "execute_result"
    }
   ],
   "source": [
    "tcollections.groupby(tl, lambda x: x % 2).agg(lambda x: sum(x))"
   ]
  },
  {
   "cell_type": "code",
   "execution_count": 19,
   "id": "8b6dd3ff",
   "metadata": {},
   "outputs": [
    {
     "data": {
      "text/plain": [
       "{0: 20, 1: 25}"
      ]
     },
     "execution_count": 19,
     "metadata": {},
     "output_type": "execute_result"
    }
   ],
   "source": [
    "tcollections.groupby_multi(tl, lambda x: (x % 2,)).agg(lambda x: sum(x))"
   ]
  },
  {
   "cell_type": "code",
   "execution_count": 20,
   "id": "fcbc26e5",
   "metadata": {},
   "outputs": [
    {
     "data": {
      "text/plain": [
       "{0: {0: 6, 2: 10, 1: 4}, 1: {1: 8, 0: 12, 2: 5}}"
      ]
     },
     "execution_count": 20,
     "metadata": {},
     "output_type": "execute_result"
    }
   ],
   "source": [
    "tcollections.groupby_multi(tl, lambda x: (x % 2,x%3)).agg(lambda x: sum(x))"
   ]
  }
 ],
 "metadata": {
  "kernelspec": {
   "display_name": "base",
   "language": "python",
   "name": "python3"
  },
  "language_info": {
   "codemirror_mode": {
    "name": "ipython",
    "version": 3
   },
   "file_extension": ".py",
   "mimetype": "text/x-python",
   "name": "python",
   "nbconvert_exporter": "python",
   "pygments_lexer": "ipython3",
   "version": "3.12.4"
  }
 },
 "nbformat": 4,
 "nbformat_minor": 5
}

{
 "cells": [
  {
   "cell_type": "markdown",
   "id": "6eae5c18",
   "metadata": {},
   "source": [
    "# Introduction to `tcollections`"
   ]
  },
  {
   "cell_type": "code",
   "execution_count": 1,
   "id": "365c4b96",
   "metadata": {},
   "outputs": [],
   "source": [
    "import json\n",
    "import sys\n",
    "sys.path.append('../src')\n",
    "import tcollections\n",
    "from tcollections import tlist, group"
   ]
  },
  {
   "cell_type": "markdown",
   "id": "ff1fbe22",
   "metadata": {},
   "source": [
    "## Collection Types"
   ]
  },
  {
   "cell_type": "code",
   "execution_count": 2,
   "id": "508a8955",
   "metadata": {},
   "outputs": [
    {
     "data": {
      "text/plain": [
       "[0, 1, 2, 3, 4, 5, 6, 7, 8, 9]"
      ]
     },
     "execution_count": 2,
     "metadata": {},
     "output_type": "execute_result"
    }
   ],
   "source": [
    "tl = tlist(range(10))\n",
    "tl"
   ]
  },
  {
   "cell_type": "code",
   "execution_count": 3,
   "id": "2e1a6555",
   "metadata": {},
   "outputs": [
    {
     "data": {
      "text/plain": [
       "[0, 1, 2, 3, 4, 5, 6, 7, 8, 9, 0, 1, 2, 3, 4, 5, 6, 7, 8, 9]"
      ]
     },
     "execution_count": 3,
     "metadata": {},
     "output_type": "execute_result"
    }
   ],
   "source": [
    "tl + tl"
   ]
  },
  {
   "cell_type": "code",
   "execution_count": 4,
   "id": "6573f5da",
   "metadata": {},
   "outputs": [
    {
     "data": {
      "text/plain": [
       "[0, 2, 4, 6, 8, 10, 12, 14, 16, 18]"
      ]
     },
     "execution_count": 4,
     "metadata": {},
     "output_type": "execute_result"
    }
   ],
   "source": [
    "tl.map(lambda x: x*2)"
   ]
  },
  {
   "cell_type": "code",
   "execution_count": 5,
   "id": "15425778",
   "metadata": {},
   "outputs": [
    {
     "data": {
      "text/plain": [
       "[9, 8, 7, 6, 5, 4, 3, 2, 1, 0]"
      ]
     },
     "execution_count": 5,
     "metadata": {},
     "output_type": "execute_result"
    }
   ],
   "source": [
    "tl.sort(reverse=True)"
   ]
  },
  {
   "cell_type": "code",
   "execution_count": 6,
   "id": "b1059ad4",
   "metadata": {},
   "outputs": [
    {
     "data": {
      "text/plain": [
       "[0, 2, 4, 6, 8]"
      ]
     },
     "execution_count": 6,
     "metadata": {},
     "output_type": "execute_result"
    }
   ],
   "source": [
    "tl.filter(lambda x: x % 2 == 0)"
   ]
  },
  {
   "cell_type": "code",
   "execution_count": 7,
   "id": "b4e189eb",
   "metadata": {},
   "outputs": [
    {
     "data": {
      "text/plain": [
       "Counter({0: 4, 1: 4, 2: 4, 3: 4, 4: 4, 5: 4, 6: 4, 7: 4, 8: 4, 9: 4})"
      ]
     },
     "execution_count": 7,
     "metadata": {},
     "output_type": "execute_result"
    }
   ],
   "source": [
    "(tl*4).value_counts()"
   ]
  },
  {
   "cell_type": "code",
   "execution_count": null,
   "id": "3fcba675",
   "metadata": {},
   "outputs": [
    {
     "data": {
      "text/plain": [
       "45"
      ]
     },
     "execution_count": 25,
     "metadata": {},
     "output_type": "execute_result"
    }
   ],
   "source": [
    "tl.reduce(lambda a,b: a+b, start=0), sum(tl)"
   ]
  },
  {
   "cell_type": "code",
   "execution_count": 9,
   "id": "76d43c1d",
   "metadata": {},
   "outputs": [
    {
     "data": {
      "text/plain": [
       "[0, 1, 2, 3, 4, 5, 6, 7, 8, 9]"
      ]
     },
     "execution_count": 9,
     "metadata": {},
     "output_type": "execute_result"
    }
   ],
   "source": [
    "tl.copy()"
   ]
  },
  {
   "cell_type": "code",
   "execution_count": 27,
   "id": "3265f0e7",
   "metadata": {},
   "outputs": [
    {
     "data": {
      "text/plain": [
       "Groups({0: [0, 2, 4, 6, 8], 1: [1, 3, 5, 7, 9]})"
      ]
     },
     "execution_count": 27,
     "metadata": {},
     "output_type": "execute_result"
    }
   ],
   "source": [
    "tl.group.by(lambda x: x % 2)"
   ]
  },
  {
   "cell_type": "code",
   "execution_count": 28,
   "id": "1c162526",
   "metadata": {},
   "outputs": [
    {
     "data": {
      "text/plain": [
       "NestedGroups({True: NestedGroups({True: [0, 6], False: [2, 4, 8]}), False: NestedGroups({False: [1, 5, 7], True: [3, 9]})})"
      ]
     },
     "execution_count": 28,
     "metadata": {},
     "output_type": "execute_result"
    }
   ],
   "source": [
    "tl.group.multi(lambda x: (x % 2 == 0, x % 3 == 0))"
   ]
  },
  {
   "cell_type": "markdown",
   "id": "898925aa",
   "metadata": {},
   "source": [
    "## Grouping Items\n",
    "This section concerns grouping elements.\n",
    "\n",
    "### Grouping Functions\n",
    "\n",
    "To group elements of a collection according to a single key, you can use either `groupby` or `group.by`."
   ]
  },
  {
   "cell_type": "code",
   "execution_count": 11,
   "id": "0dfaa44e",
   "metadata": {},
   "outputs": [
    {
     "data": {
      "text/plain": [
       "Groups({0: [0, 2, 4, 6, 8], 1: [1, 3, 5, 7, 9]})"
      ]
     },
     "execution_count": 11,
     "metadata": {},
     "output_type": "execute_result"
    }
   ],
   "source": [
    "grps = tcollections.group.by(tl, lambda x: x % 2)\n",
    "grps"
   ]
  },
  {
   "cell_type": "code",
   "execution_count": 12,
   "id": "5ab47b41",
   "metadata": {},
   "outputs": [
    {
     "data": {
      "text/plain": [
       "Groups({0: [0, 2, 4, 6, 8], 1: [1, 3, 5, 7, 9]})"
      ]
     },
     "execution_count": 12,
     "metadata": {},
     "output_type": "execute_result"
    }
   ],
   "source": [
    "grps = tl.group.by(lambda x: x % 2)\n",
    "grps"
   ]
  },
  {
   "cell_type": "code",
   "execution_count": 13,
   "id": "8e5e2e3e",
   "metadata": {},
   "outputs": [
    {
     "data": {
      "text/plain": [
       "Groups({0: [0, 2, 4, 6, 8], 1: [1, 3, 5, 7, 9]})"
      ]
     },
     "execution_count": 13,
     "metadata": {},
     "output_type": "execute_result"
    }
   ],
   "source": [
    "grps = tcollections.groupby(tl, lambda x: x % 2)\n",
    "grps"
   ]
  },
  {
   "cell_type": "markdown",
   "id": "9fbdd301",
   "metadata": {},
   "source": [
    "Use `groupby_multi` or `group.multi` if you need nested groups."
   ]
  },
  {
   "cell_type": "code",
   "execution_count": 14,
   "id": "d8eeeb0e",
   "metadata": {},
   "outputs": [
    {
     "name": "stdout",
     "output_type": "stream",
     "text": [
      "{\n",
      "    \"True\": {\n",
      "        \"True\": [\n",
      "            0,\n",
      "            6\n",
      "        ],\n",
      "        \"False\": [\n",
      "            2,\n",
      "            4,\n",
      "            8\n",
      "        ]\n",
      "    },\n",
      "    \"False\": {\n",
      "        \"False\": [\n",
      "            1,\n",
      "            5,\n",
      "            7\n",
      "        ],\n",
      "        \"True\": [\n",
      "            3,\n",
      "            9\n",
      "        ]\n",
      "    }\n",
      "}\n"
     ]
    }
   ],
   "source": [
    "grps = tcollections.groupby_multi(tl, lambda x: (x % 2 == 0,x % 3 == 0))\n",
    "print(grps.to_json(indent=4))"
   ]
  },
  {
   "cell_type": "code",
   "execution_count": 15,
   "id": "b068d506",
   "metadata": {},
   "outputs": [
    {
     "name": "stdout",
     "output_type": "stream",
     "text": [
      "{\n",
      "    \"True\": {\n",
      "        \"True\": [\n",
      "            0,\n",
      "            6\n",
      "        ],\n",
      "        \"False\": [\n",
      "            2,\n",
      "            4,\n",
      "            8\n",
      "        ]\n",
      "    },\n",
      "    \"False\": {\n",
      "        \"False\": [\n",
      "            1,\n",
      "            5,\n",
      "            7\n",
      "        ],\n",
      "        \"True\": [\n",
      "            3,\n",
      "            9\n",
      "        ]\n",
      "    }\n",
      "}\n"
     ]
    }
   ],
   "source": [
    "grps = tl.group.multi(lambda x: (x % 2 == 0,x % 3 == 0))\n",
    "print(grps.to_json(indent=4))"
   ]
  },
  {
   "cell_type": "code",
   "execution_count": 16,
   "id": "ee8b8a9b",
   "metadata": {},
   "outputs": [
    {
     "data": {
      "text/plain": [
       "NestedGroups({0: [0, 2, 4, 6, 8], 1: [1, 3, 5, 7, 9]})"
      ]
     },
     "execution_count": 16,
     "metadata": {},
     "output_type": "execute_result"
    }
   ],
   "source": [
    "grps = tcollections.group.multi(tl, lambda x: (x % 2,))\n",
    "grps"
   ]
  },
  {
   "cell_type": "code",
   "execution_count": 17,
   "id": "dc38f516",
   "metadata": {},
   "outputs": [
    {
     "name": "stdout",
     "output_type": "stream",
     "text": [
      "{\"0\": [0, 2, 4, 6, 8], \"1\": [1, 3, 5, 7, 9]}\n"
     ]
    }
   ],
   "source": [
    "grps = tcollections.groupby_multi(tl, lambda x: (x % 2,))\n",
    "print(grps.to_json())"
   ]
  },
  {
   "cell_type": "markdown",
   "id": "524b17f3",
   "metadata": {},
   "source": [
    "### Aggregating Groups"
   ]
  },
  {
   "cell_type": "code",
   "execution_count": 18,
   "id": "618e5dcd",
   "metadata": {},
   "outputs": [
    {
     "name": "stdout",
     "output_type": "stream",
     "text": [
      "{\n",
      "  \"0\": 20,\n",
      "  \"1\": 25\n",
      "}\n"
     ]
    }
   ],
   "source": [
    "agged = tl.group.by(lambda x: x % 2).agg(lambda x: sum(x))\n",
    "print(json.dumps(agged, indent=2))"
   ]
  },
  {
   "cell_type": "code",
   "execution_count": 19,
   "id": "8b6dd3ff",
   "metadata": {},
   "outputs": [
    {
     "data": {
      "text/plain": [
       "{True: {True: 6, False: 14}, False: {False: 13, True: 12}}"
      ]
     },
     "execution_count": 19,
     "metadata": {},
     "output_type": "execute_result"
    }
   ],
   "source": [
    "tl.group.multi(lambda x: (x % 2 == 0,x % 3 == 0)).agg(lambda x: sum(x))"
   ]
  },
  {
   "cell_type": "code",
   "execution_count": 20,
   "id": "fcbc26e5",
   "metadata": {},
   "outputs": [
    {
     "data": {
      "text/plain": [
       "{True: {True: 6, False: 14}, False: {False: 13, True: 12}}"
      ]
     },
     "execution_count": 20,
     "metadata": {},
     "output_type": "execute_result"
    }
   ],
   "source": [
    "tl.group.multi(lambda x: (x % 2 == 0,x % 3 == 0)).agg(lambda x: sum(x))"
   ]
  },
  {
   "cell_type": "code",
   "execution_count": 21,
   "id": "1eedc272",
   "metadata": {},
   "outputs": [
    {
     "data": {
      "text/plain": [
       "{True: {True: 6, False: 14}, False: {False: 13, True: 12}}"
      ]
     },
     "execution_count": 21,
     "metadata": {},
     "output_type": "execute_result"
    }
   ],
   "source": [
    "tl.group.multi(lambda x: (x % 2 == 0,x % 3 == 0)).agg(lambda x: sum(x))"
   ]
  },
  {
   "cell_type": "markdown",
   "id": "570d9459",
   "metadata": {},
   "source": [
    "### Flattening and Ungrouping"
   ]
  },
  {
   "cell_type": "code",
   "execution_count": 22,
   "id": "a96bcf6e",
   "metadata": {},
   "outputs": [
    {
     "data": {
      "text/plain": [
       "[0, 2, 4, 6, 8, 1, 3, 5, 7, 9]"
      ]
     },
     "execution_count": 22,
     "metadata": {},
     "output_type": "execute_result"
    }
   ],
   "source": [
    "grps = tl.group.by(lambda x: x % 2)\n",
    "grps.ungroup()"
   ]
  },
  {
   "cell_type": "code",
   "execution_count": 23,
   "id": "d8b892cd",
   "metadata": {},
   "outputs": [
    {
     "data": {
      "text/plain": [
       "[0, 6, 2, 4, 8, 1, 5, 7, 3, 9]"
      ]
     },
     "execution_count": 23,
     "metadata": {},
     "output_type": "execute_result"
    }
   ],
   "source": [
    "grps = tl.group.multi(lambda x: (x % 2 == 0,x % 3 == 0))\n",
    "grps.ungroup()"
   ]
  },
  {
   "cell_type": "code",
   "execution_count": 24,
   "id": "b5c0cd9e",
   "metadata": {},
   "outputs": [
    {
     "name": "stdout",
     "output_type": "stream",
     "text": [
      "{\n",
      "    \"(True, True)\": [\n",
      "        0,\n",
      "        6\n",
      "    ],\n",
      "    \"(True, False)\": [\n",
      "        2,\n",
      "        4,\n",
      "        8\n",
      "    ],\n",
      "    \"(False, False)\": [\n",
      "        1,\n",
      "        5,\n",
      "        7\n",
      "    ],\n",
      "    \"(False, True)\": [\n",
      "        3,\n",
      "        9\n",
      "    ]\n",
      "}\n"
     ]
    }
   ],
   "source": [
    "grps = tl.group.multi(lambda x: (x % 2 == 0,x % 3 == 0))\n",
    "flat_grps = grps.flatten()\n",
    "print(flat_grps.to_json(indent=4))"
   ]
  }
 ],
 "metadata": {
  "kernelspec": {
   "display_name": "base",
   "language": "python",
   "name": "python3"
  },
  "language_info": {
   "codemirror_mode": {
    "name": "ipython",
    "version": 3
   },
   "file_extension": ".py",
   "mimetype": "text/x-python",
   "name": "python",
   "nbconvert_exporter": "python",
   "pygments_lexer": "ipython3",
   "version": "3.12.4"
  }
 },
 "nbformat": 4,
 "nbformat_minor": 5
}
